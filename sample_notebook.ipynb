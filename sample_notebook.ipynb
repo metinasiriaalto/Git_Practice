{
 "cells": [
  {
   "cell_type": "code",
   "execution_count": 1,
   "id": "05fcd5b0-ceb6-448b-8471-c375239e5f79",
   "metadata": {},
   "outputs": [],
   "source": [
    "name = \"Meti\""
   ]
  },
  {
   "cell_type": "code",
   "execution_count": 2,
   "id": "d8e77ef3-4095-47b5-a078-86330ee33d9e",
   "metadata": {},
   "outputs": [
    {
     "name": "stdout",
     "output_type": "stream",
     "text": [
      "my name is Meti and I am practising Git\n"
     ]
    }
   ],
   "source": [
    "print(f\"my name is {name} and I am practising Git\")"
   ]
  },
  {
   "cell_type": "code",
   "execution_count": null,
   "id": "d3da4b53-dc07-4c56-a970-5fddca945113",
   "metadata": {},
   "outputs": [],
   "source": []
  }
 ],
 "metadata": {
  "kernelspec": {
   "display_name": "Python 3 (ipykernel)",
   "language": "python",
   "name": "python3"
  },
  "language_info": {
   "codemirror_mode": {
    "name": "ipython",
    "version": 3
   },
   "file_extension": ".py",
   "mimetype": "text/x-python",
   "name": "python",
   "nbconvert_exporter": "python",
   "pygments_lexer": "ipython3",
   "version": "3.10.14"
  }
 },
 "nbformat": 4,
 "nbformat_minor": 5
}
